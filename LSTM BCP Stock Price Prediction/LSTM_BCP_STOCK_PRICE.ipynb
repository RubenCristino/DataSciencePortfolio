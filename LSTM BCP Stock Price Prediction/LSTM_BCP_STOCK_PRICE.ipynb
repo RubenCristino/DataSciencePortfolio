{
 "cells": [
  {
   "cell_type": "code",
   "execution_count": 1,
   "id": "0cf1e8c4-2c1b-4d2b-9ca1-ce88eb2b4a90",
   "metadata": {},
   "outputs": [],
   "source": [
    "#Importar as bibliotecas\n",
    "import numpy as np\n",
    "import matplotlib.pyplot as plt\n",
    "import pandas as pd"
   ]
  },
  {
   "cell_type": "code",
   "execution_count": 7,
   "id": "8ca1fcb2-f37d-4c53-bd83-478063c928b1",
   "metadata": {},
   "outputs": [],
   "source": [
    "#importar os dados\n",
    "dataset_train = pd.read_csv('B.COM.PORTUGUES_quote_chart.csv',sep =\";\")\n",
    "training_set = dataset_train.iloc[:, 1:2].values\n"
   ]
  },
  {
   "cell_type": "code",
   "execution_count": 12,
   "id": "8bcc8b6c-d542-4cc4-a4fd-433bf3ab7812",
   "metadata": {},
   "outputs": [
    {
     "data": {
      "text/plain": [
       "<bound method DataFrame.info of            time  B.COM.PORTUGUES\n",
       "0    02/01/2019           0.2286\n",
       "1    03/01/2019           0.2307\n",
       "2    04/01/2019           0.2406\n",
       "3    07/01/2019           0.2470\n",
       "4    08/01/2019           0.2448\n",
       "..          ...              ...\n",
       "936  25/08/2022           0.1443\n",
       "937  26/08/2022           0.1422\n",
       "938  29/08/2022           0.1417\n",
       "939  30/08/2022           0.1451\n",
       "940  31/08/2022           0.1452\n",
       "\n",
       "[941 rows x 2 columns]>"
      ]
     },
     "execution_count": 12,
     "metadata": {},
     "output_type": "execute_result"
    }
   ],
   "source": [
    "dataset_train.info"
   ]
  },
  {
   "cell_type": "code",
   "execution_count": null,
   "id": "4cf21db5-c85c-4d19-bef8-90426192e42e",
   "metadata": {},
   "outputs": [],
   "source": [
    "#Transformação escala\n",
    "from sklearn.preprocessing import MinMaxScaler\n",
    "sc = MinMaxScaler(feature_range = (0, 1))\n",
    "training_set_scaled = sc.fit_transform(training_set)\n",
    "training_set_scaled"
   ]
  },
  {
   "cell_type": "code",
   "execution_count": 13,
   "id": "992d1de2-b76b-4a54-af56-2666e4b9ca35",
   "metadata": {},
   "outputs": [],
   "source": [
    "#Estruturas de dados com 60 intervalos\n",
    "X_train = []\n",
    "y_train = []\n",
    "for i in range(60, 941):\n",
    "    X_train.append(training_set_scaled[i-60:i, 0])\n",
    "    y_train.append(training_set_scaled[i, 0])\n",
    "X_train, y_train = np.array(X_train), np.array(y_train)"
   ]
  },
  {
   "cell_type": "code",
   "execution_count": 14,
   "id": "b3a95c99-3ba9-4f29-a2b9-456626042d04",
   "metadata": {},
   "outputs": [
    {
     "data": {
      "text/plain": [
       "array([[0.72490876, 0.73448905, 0.77965328, ..., 0.69251825, 0.69890511,\n",
       "        0.68886861],\n",
       "       [0.73448905, 0.77965328, 0.80885036, ..., 0.69890511, 0.68886861,\n",
       "        0.72718978],\n",
       "       [0.77965328, 0.80885036, 0.79881387, ..., 0.68886861, 0.72718978,\n",
       "        0.7290146 ],\n",
       "       ...,\n",
       "       [0.5729927 , 0.58439781, 0.56843066, ..., 0.34306569, 0.34032847,\n",
       "        0.33074818],\n",
       "       [0.58439781, 0.56843066, 0.57208029, ..., 0.34032847, 0.33074818,\n",
       "        0.32846715],\n",
       "       [0.56843066, 0.57208029, 0.47125912, ..., 0.33074818, 0.32846715,\n",
       "        0.3439781 ]])"
      ]
     },
     "execution_count": 14,
     "metadata": {},
     "output_type": "execute_result"
    }
   ],
   "source": [
    "X_train"
   ]
  },
  {
   "cell_type": "code",
   "execution_count": 15,
   "id": "f6e5580b-0e65-4c0c-9216-2182d76e12c5",
   "metadata": {},
   "outputs": [],
   "source": [
    "# Ajustar Formato\n",
    "X_train = np.reshape(X_train, (X_train.shape[0], X_train.shape[1], 1))"
   ]
  },
  {
   "cell_type": "code",
   "execution_count": 16,
   "id": "698dc363-a1e2-4adf-bd7c-567647f290d2",
   "metadata": {},
   "outputs": [],
   "source": [
    "#Importando bibliotecas do Keras\n",
    "from keras.models import Sequential\n",
    "from keras.layers import Dense\n",
    "from keras.layers import LSTM\n",
    "from keras.layers import Dropout"
   ]
  },
  {
   "cell_type": "code",
   "execution_count": 46,
   "id": "973154e2-d484-473e-b9e4-67428f0caa8a",
   "metadata": {},
   "outputs": [],
   "source": [
    "#Inicializando a RNA\n",
    "regressor = Sequential()\n",
    "#Criando as camadas\n",
    "regressor.add(LSTM(units = 50, return_sequences = True, input_shape = (X_train.shape[1], 1)))\n",
    "regressor.add(Dropout(0.2))\n",
    "regressor.add(LSTM(units = 50, return_sequences = True, activation =\"tanh\"))\n",
    "regressor.add(Dropout(0.2))\n",
    "regressor.add(LSTM(units = 50, return_sequences = True))\n",
    "regressor.add(Dropout(0.2))\n",
    "regressor.add(LSTM(units = 50))\n",
    "regressor.add(Dropout(0.2))\n",
    "regressor.add(Dense(units = 1))"
   ]
  },
  {
   "cell_type": "code",
   "execution_count": 47,
   "id": "a0e702dd-bbe0-4a8b-a003-95fcc1d05e8e",
   "metadata": {},
   "outputs": [
    {
     "name": "stdout",
     "output_type": "stream",
     "text": [
      "Epoch 1/100\n",
      "28/28 [==============================] - 8s 61ms/step - loss: 0.0392\n",
      "Epoch 2/100\n",
      "28/28 [==============================] - 2s 68ms/step - loss: 0.0104\n",
      "Epoch 3/100\n",
      "28/28 [==============================] - 2s 63ms/step - loss: 0.0090\n",
      "Epoch 4/100\n",
      "28/28 [==============================] - 2s 63ms/step - loss: 0.0081\n",
      "Epoch 5/100\n",
      "28/28 [==============================] - 2s 63ms/step - loss: 0.0069\n",
      "Epoch 6/100\n",
      "28/28 [==============================] - 2s 64ms/step - loss: 0.0055\n",
      "Epoch 7/100\n",
      "28/28 [==============================] - 2s 63ms/step - loss: 0.0067\n",
      "Epoch 8/100\n",
      "28/28 [==============================] - 2s 64ms/step - loss: 0.0065\n",
      "Epoch 9/100\n",
      "28/28 [==============================] - 2s 66ms/step - loss: 0.0062\n",
      "Epoch 10/100\n",
      "28/28 [==============================] - 2s 69ms/step - loss: 0.0053\n",
      "Epoch 11/100\n",
      "28/28 [==============================] - 2s 76ms/step - loss: 0.0050\n",
      "Epoch 12/100\n",
      "28/28 [==============================] - 2s 67ms/step - loss: 0.0047\n",
      "Epoch 13/100\n",
      "28/28 [==============================] - 2s 66ms/step - loss: 0.0055\n",
      "Epoch 14/100\n",
      "28/28 [==============================] - 2s 64ms/step - loss: 0.0040\n",
      "Epoch 15/100\n",
      "28/28 [==============================] - 2s 64ms/step - loss: 0.0045\n",
      "Epoch 16/100\n",
      "28/28 [==============================] - 2s 66ms/step - loss: 0.0037\n",
      "Epoch 17/100\n",
      "28/28 [==============================] - 2s 67ms/step - loss: 0.0037\n",
      "Epoch 18/100\n",
      "28/28 [==============================] - 2s 64ms/step - loss: 0.0039: 0s \n",
      "Epoch 19/100\n",
      "28/28 [==============================] - 2s 66ms/step - loss: 0.0035\n",
      "Epoch 20/100\n",
      "28/28 [==============================] - 2s 68ms/step - loss: 0.0031\n",
      "Epoch 21/100\n",
      "28/28 [==============================] - 2s 65ms/step - loss: 0.0036\n",
      "Epoch 22/100\n",
      "28/28 [==============================] - 2s 64ms/step - loss: 0.0033\n",
      "Epoch 23/100\n",
      "28/28 [==============================] - 2s 65ms/step - loss: 0.0030\n",
      "Epoch 24/100\n",
      "28/28 [==============================] - 2s 66ms/step - loss: 0.0034\n",
      "Epoch 25/100\n",
      "28/28 [==============================] - 2s 65ms/step - loss: 0.0034\n",
      "Epoch 26/100\n",
      "28/28 [==============================] - 2s 65ms/step - loss: 0.0038\n",
      "Epoch 27/100\n",
      "28/28 [==============================] - 2s 65ms/step - loss: 0.0030\n",
      "Epoch 28/100\n",
      "28/28 [==============================] - 2s 70ms/step - loss: 0.0027\n",
      "Epoch 29/100\n",
      "28/28 [==============================] - 2s 64ms/step - loss: 0.0026\n",
      "Epoch 30/100\n",
      "28/28 [==============================] - 2s 65ms/step - loss: 0.0028\n",
      "Epoch 31/100\n",
      "28/28 [==============================] - 2s 65ms/step - loss: 0.0026\n",
      "Epoch 32/100\n",
      "28/28 [==============================] - 2s 65ms/step - loss: 0.0027\n",
      "Epoch 33/100\n",
      "28/28 [==============================] - 2s 65ms/step - loss: 0.0027\n",
      "Epoch 34/100\n",
      "28/28 [==============================] - 2s 65ms/step - loss: 0.0025\n",
      "Epoch 35/100\n",
      "28/28 [==============================] - 2s 66ms/step - loss: 0.0025\n",
      "Epoch 36/100\n",
      "28/28 [==============================] - 2s 66ms/step - loss: 0.0023\n",
      "Epoch 37/100\n",
      "28/28 [==============================] - 2s 76ms/step - loss: 0.0026\n",
      "Epoch 38/100\n",
      "28/28 [==============================] - 2s 67ms/step - loss: 0.0024\n",
      "Epoch 39/100\n",
      "28/28 [==============================] - 2s 72ms/step - loss: 0.0023\n",
      "Epoch 40/100\n",
      "28/28 [==============================] - 2s 68ms/step - loss: 0.0027\n",
      "Epoch 41/100\n",
      "28/28 [==============================] - 2s 68ms/step - loss: 0.0025\n",
      "Epoch 42/100\n",
      "28/28 [==============================] - 2s 75ms/step - loss: 0.0027\n",
      "Epoch 43/100\n",
      "28/28 [==============================] - 2s 69ms/step - loss: 0.0020\n",
      "Epoch 44/100\n",
      "28/28 [==============================] - 2s 68ms/step - loss: 0.0020\n",
      "Epoch 45/100\n",
      "28/28 [==============================] - 2s 76ms/step - loss: 0.0022\n",
      "Epoch 46/100\n",
      "28/28 [==============================] - 2s 72ms/step - loss: 0.0028\n",
      "Epoch 47/100\n",
      "28/28 [==============================] - 2s 69ms/step - loss: 0.0021\n",
      "Epoch 48/100\n",
      "28/28 [==============================] - 2s 69ms/step - loss: 0.0021\n",
      "Epoch 49/100\n",
      "28/28 [==============================] - 2s 68ms/step - loss: 0.0023\n",
      "Epoch 50/100\n",
      "28/28 [==============================] - 2s 69ms/step - loss: 0.0021\n",
      "Epoch 51/100\n",
      "28/28 [==============================] - 2s 73ms/step - loss: 0.0020\n",
      "Epoch 52/100\n",
      "28/28 [==============================] - 2s 80ms/step - loss: 0.0018\n",
      "Epoch 53/100\n",
      "28/28 [==============================] - 2s 74ms/step - loss: 0.0021\n",
      "Epoch 54/100\n",
      "28/28 [==============================] - 2s 67ms/step - loss: 0.0020\n",
      "Epoch 55/100\n",
      "28/28 [==============================] - 2s 67ms/step - loss: 0.0020\n",
      "Epoch 56/100\n",
      "28/28 [==============================] - 2s 67ms/step - loss: 0.0020: 0s - lo\n",
      "Epoch 57/100\n",
      "28/28 [==============================] - 2s 67ms/step - loss: 0.0018\n",
      "Epoch 58/100\n",
      "28/28 [==============================] - 2s 67ms/step - loss: 0.0020\n",
      "Epoch 59/100\n",
      "28/28 [==============================] - 2s 68ms/step - loss: 0.0022\n",
      "Epoch 60/100\n",
      "28/28 [==============================] - 2s 67ms/step - loss: 0.0018\n",
      "Epoch 61/100\n",
      "28/28 [==============================] - 2s 72ms/step - loss: 0.0019\n",
      "Epoch 62/100\n",
      "28/28 [==============================] - 2s 70ms/step - loss: 0.0017\n",
      "Epoch 63/100\n",
      "28/28 [==============================] - 2s 68ms/step - loss: 0.0017\n",
      "Epoch 64/100\n",
      "28/28 [==============================] - 2s 73ms/step - loss: 0.0017\n",
      "Epoch 65/100\n",
      "28/28 [==============================] - 2s 74ms/step - loss: 0.0017\n",
      "Epoch 66/100\n",
      "28/28 [==============================] - 2s 69ms/step - loss: 0.0016\n",
      "Epoch 67/100\n",
      "28/28 [==============================] - 2s 67ms/step - loss: 0.0017\n",
      "Epoch 68/100\n",
      "28/28 [==============================] - 2s 67ms/step - loss: 0.0016\n",
      "Epoch 69/100\n",
      "28/28 [==============================] - 2s 70ms/step - loss: 0.0017\n",
      "Epoch 70/100\n",
      "28/28 [==============================] - 2s 70ms/step - loss: 0.0017\n",
      "Epoch 71/100\n",
      "28/28 [==============================] - 2s 67ms/step - loss: 0.0014\n",
      "Epoch 72/100\n",
      "28/28 [==============================] - 2s 68ms/step - loss: 0.0015\n",
      "Epoch 73/100\n",
      "28/28 [==============================] - 2s 68ms/step - loss: 0.0017\n",
      "Epoch 74/100\n",
      "28/28 [==============================] - 2s 68ms/step - loss: 0.0017\n",
      "Epoch 75/100\n",
      "28/28 [==============================] - 2s 68ms/step - loss: 0.0015\n",
      "Epoch 76/100\n",
      "28/28 [==============================] - 2s 70ms/step - loss: 0.0013\n",
      "Epoch 77/100\n",
      "28/28 [==============================] - 2s 68ms/step - loss: 0.0016\n",
      "Epoch 78/100\n",
      "28/28 [==============================] - 2s 72ms/step - loss: 0.0015\n",
      "Epoch 79/100\n",
      "28/28 [==============================] - 2s 67ms/step - loss: 0.0015\n",
      "Epoch 80/100\n",
      "28/28 [==============================] - 2s 67ms/step - loss: 0.0016\n",
      "Epoch 81/100\n",
      "28/28 [==============================] - 2s 67ms/step - loss: 0.0014\n",
      "Epoch 82/100\n",
      "28/28 [==============================] - 2s 67ms/step - loss: 0.0015\n",
      "Epoch 83/100\n",
      "28/28 [==============================] - 2s 68ms/step - loss: 0.0017\n",
      "Epoch 84/100\n",
      "28/28 [==============================] - 2s 67ms/step - loss: 0.0015\n",
      "Epoch 85/100\n",
      "28/28 [==============================] - 2s 68ms/step - loss: 0.0015\n",
      "Epoch 86/100\n",
      "28/28 [==============================] - 2s 74ms/step - loss: 0.0015\n",
      "Epoch 87/100\n",
      "28/28 [==============================] - 2s 68ms/step - loss: 0.0014\n",
      "Epoch 88/100\n",
      "28/28 [==============================] - 2s 67ms/step - loss: 0.0015\n",
      "Epoch 89/100\n",
      "28/28 [==============================] - 2s 68ms/step - loss: 0.0015\n",
      "Epoch 90/100\n",
      "28/28 [==============================] - 2s 67ms/step - loss: 0.0015\n",
      "Epoch 91/100\n",
      "28/28 [==============================] - 2s 68ms/step - loss: 0.0013\n",
      "Epoch 92/100\n",
      "28/28 [==============================] - 2s 69ms/step - loss: 0.0014\n",
      "Epoch 93/100\n",
      "28/28 [==============================] - 2s 68ms/step - loss: 0.0015\n",
      "Epoch 94/100\n",
      "28/28 [==============================] - 2s 70ms/step - loss: 0.0014\n",
      "Epoch 95/100\n",
      "28/28 [==============================] - 2s 72ms/step - loss: 0.0013\n",
      "Epoch 96/100\n",
      "28/28 [==============================] - 2s 67ms/step - loss: 0.0013\n",
      "Epoch 97/100\n",
      "28/28 [==============================] - 2s 67ms/step - loss: 0.0012\n",
      "Epoch 98/100\n",
      "28/28 [==============================] - 2s 69ms/step - loss: 0.0014\n",
      "Epoch 99/100\n",
      "28/28 [==============================] - 2s 67ms/step - loss: 0.0014\n",
      "Epoch 100/100\n",
      "28/28 [==============================] - 2s 67ms/step - loss: 0.0014\n"
     ]
    },
    {
     "data": {
      "text/plain": [
       "<keras.callbacks.History at 0x21d47079a60>"
      ]
     },
     "execution_count": 47,
     "metadata": {},
     "output_type": "execute_result"
    }
   ],
   "source": [
    "#Compilando a rede\n",
    "regressor.compile(optimizer = 'adam', loss = 'mean_squared_error')\n",
    "#Treinando\n",
    "regressor.fit(X_train, y_train, epochs = 100, batch_size = 32)"
   ]
  },
  {
   "cell_type": "code",
   "execution_count": 48,
   "id": "293a7c05-eaa1-4a21-b121-1a06c6d46578",
   "metadata": {},
   "outputs": [],
   "source": [
    "#Obtendo os dados reais\n",
    "dataset_test = pd.read_csv('Prediction.csv',sep =\";\")\n",
    "real_stock_price = dataset_test.iloc[:, 1:2].values"
   ]
  },
  {
   "cell_type": "code",
   "execution_count": 52,
   "id": "29996714-87af-4091-9c29-9b5fe288bd11",
   "metadata": {},
   "outputs": [],
   "source": [
    "#Obtendo os dados previstos\n",
    "dataset_total = pd.concat((dataset_train['B.COM.PORTUGUES'], dataset_test['B.COM.PORTUGUES']), axis = 0)\n",
    "inputs = dataset_total[len(dataset_total) - len(dataset_test) - 60:].values\n",
    "inputs = inputs.reshape(-1,1)\n",
    "inputs = sc.transform(inputs)\n",
    "X_test = []\n",
    "for i in range(60, 81):\n",
    "    X_test.append(inputs[i-60:i, 0])\n",
    "X_test = np.array(X_test)\n",
    "X_test = np.reshape(X_test, (X_test.shape[0], X_test.shape[1], 1))\n",
    "predicted_stock_price = regressor.predict(X_test)\n",
    "predicted_stock_price = sc.inverse_transform(predicted_stock_price)"
   ]
  },
  {
   "cell_type": "code",
   "execution_count": 53,
   "id": "3ffed95c-42b9-40af-ba7e-2d740a68d1cb",
   "metadata": {},
   "outputs": [
    {
     "data": {
      "image/png": "[encoded data removed]",
      "text/plain": [
       "<Figure size 432x288 with 1 Axes>"
      ]
     },
     "metadata": {
      "needs_background": "light"
     },
     "output_type": "display_data"
    }
   ],
   "source": [
    "#Visualizando os Resultados\n",
    "plt.plot(real_stock_price, color = 'red', label = 'Dados Reais de Ações BCP')\n",
    "plt.plot(predicted_stock_price, color = 'blue', label = 'Dados Previstos de Ações BCP')\n",
    "plt.title('Previsão de Preços de Ações')\n",
    "plt.xlabel('Tempo')\n",
    "plt.ylabel('Preços de Ações BCP')\n",
    "plt.legend()\n",
    "plt.show()"
   ]
  },
  {
   "cell_type": "code",
   "execution_count": 55,
   "id": "54535188-f100-4c9b-95e4-208e755f4b0e",
   "metadata": {},
   "outputs": [
    {
     "data": {
      "text/plain": [
       "0.003533538304056439"
      ]
     },
     "execution_count": 55,
     "metadata": {},
     "output_type": "execute_result"
    }
   ],
   "source": [
    "rmse = np.sqrt(np.mean(predicted_stock_price - real_stock_price)**2)\n",
    "rmse"
   ]
  }
 ],
 "metadata": {
  "kernelspec": {
   "display_name": "Python 3",
   "language": "python",
   "name": "python3"
  },
  "language_info": {
   "codemirror_mode": {
    "name": "ipython",
    "version": 3
   },
   "file_extension": ".py",
   "mimetype": "text/x-python",
   "name": "python",
   "nbconvert_exporter": "python",
   "pygments_lexer": "ipython3",
   "version": "3.8.8"
  }
 },
 "nbformat": 4,
 "nbformat_minor": 5
}
